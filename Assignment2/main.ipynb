{
 "cells": [
  {
   "cell_type": "markdown",
   "id": "47bc0a9e",
   "metadata": {
    "id": "47bc0a9e"
   },
   "source": [
    "\n",
    "#                                           ASSIGNMENT -- 2"
   ]
  },
  {
   "cell_type": "markdown",
   "id": "d8225362",
   "metadata": {
    "id": "d8225362"
   },
   "source": [
    "#### Declaring all the necessary inbuilt modules for part 1 and 2 of the assignment."
   ]
  },
  {
   "cell_type": "code",
   "execution_count": 1,
   "id": "49944bcb",
   "metadata": {
    "colab": {
     "base_uri": "https://localhost:8080/"
    },
    "id": "49944bcb",
    "outputId": "60ec1ba1-710f-4838-93a6-1b5af1cf05ec"
   },
   "outputs": [
    {
     "name": "stdout",
     "output_type": "stream",
     "text": [
      "Requirement already satisfied: validclust in c:\\users\\hp\\anaconda3\\lib\\site-packages (0.1.1)\n",
      "Requirement already satisfied: scikit-learn in c:\\users\\hp\\anaconda3\\lib\\site-packages (from validclust) (0.24.1)\n",
      "Requirement already satisfied: numpy>=1.16.5 in c:\\users\\hp\\appdata\\roaming\\python\\python38\\site-packages (from validclust) (1.21.3)\n",
      "Requirement already satisfied: pandas in c:\\users\\hp\\anaconda3\\lib\\site-packages (from validclust) (1.2.4)\n",
      "Requirement already satisfied: packaging in c:\\users\\hp\\anaconda3\\lib\\site-packages (from validclust) (21.0)\n",
      "Requirement already satisfied: matplotlib in c:\\users\\hp\\anaconda3\\lib\\site-packages (from validclust) (3.3.4)\n",
      "Requirement already satisfied: seaborn in c:\\users\\hp\\anaconda3\\lib\\site-packages (from validclust) (0.11.1)\n",
      "Requirement already satisfied: pyparsing!=2.0.4,!=2.1.2,!=2.1.6,>=2.0.3 in c:\\users\\hp\\anaconda3\\lib\\site-packages (from matplotlib->validclust) (3.0.4)\n",
      "Requirement already satisfied: kiwisolver>=1.0.1 in c:\\users\\hp\\anaconda3\\lib\\site-packages (from matplotlib->validclust) (1.3.1)\n",
      "Requirement already satisfied: python-dateutil>=2.1 in c:\\users\\hp\\anaconda3\\lib\\site-packages (from matplotlib->validclust) (2.8.2)\n",
      "Requirement already satisfied: pillow>=6.2.0 in c:\\users\\hp\\anaconda3\\lib\\site-packages (from matplotlib->validclust) (8.4.0)\n",
      "Requirement already satisfied: cycler>=0.10 in c:\\users\\hp\\anaconda3\\lib\\site-packages (from matplotlib->validclust) (0.10.0)\n",
      "Requirement already satisfied: six in c:\\users\\hp\\anaconda3\\lib\\site-packages (from cycler>=0.10->matplotlib->validclust) (1.16.0)\n",
      "Requirement already satisfied: pytz>=2017.3 in c:\\users\\hp\\anaconda3\\lib\\site-packages (from pandas->validclust) (2021.3)\n",
      "Requirement already satisfied: threadpoolctl>=2.0.0 in c:\\users\\hp\\anaconda3\\lib\\site-packages (from scikit-learn->validclust) (2.2.0)\n",
      "Requirement already satisfied: joblib>=0.11 in c:\\users\\hp\\anaconda3\\lib\\site-packages (from scikit-learn->validclust) (1.1.0)\n",
      "Requirement already satisfied: scipy>=0.19.1 in c:\\users\\hp\\anaconda3\\lib\\site-packages (from scikit-learn->validclust) (1.6.2)\n"
     ]
    }
   ],
   "source": [
    "from keras.datasets import cifar10\n",
    "from cv2 import cvtColor, COLOR_BGR2GRAY, COLOR_GRAY2RGB, imshow\n",
    "\n",
    "import numpy as np\n",
    "import random\n",
    "from random import choice\n",
    "\n",
    "from scipy.spatial.distance import euclidean\n",
    "from sklearn.metrics import pairwise_distances\n",
    "!pip install validclust\n",
    "from validclust import dunn\n",
    "from sklearn.metrics import silhouette_samples,silhouette_score\n",
    "\n",
    "\n",
    "from sklearn.cluster import KMeans\n",
    "from keras.models import Model\n",
    "from keras import Input\n",
    "from keras.layers import Dense, Reshape, Flatten\n",
    "\n",
    "%matplotlib inline\n",
    "%config InlineBackend.figure_format = 'retina'\n",
    "import matplotlib.pyplot as plt\n",
    "from matplotlib import pyplot\n",
    "\n",
    "import warnings\n",
    "warnings.filterwarnings('ignore')\n"
   ]
  },
  {
   "cell_type": "markdown",
   "id": "9a526bd7",
   "metadata": {
    "id": "9a526bd7"
   },
   "source": [
    "#### Loading the cifar10 data set with 50000 training and 10000 test data sets respectively."
   ]
  },
  {
   "cell_type": "code",
   "execution_count": 2,
   "id": "67ee2065",
   "metadata": {
    "id": "67ee2065"
   },
   "outputs": [],
   "source": [
    "\n",
    "#Loading the Cifar-10 data set.\n",
    "(X_Train, Y_Train), (X_Test, Y_Test) = cifar10.load_data()\n"
   ]
  },
  {
   "cell_type": "markdown",
   "id": "6fdde755",
   "metadata": {
    "id": "6fdde755"
   },
   "source": [
    "#### Data Normalization."
   ]
  },
  {
   "cell_type": "code",
   "execution_count": 4,
   "id": "c64415c2",
   "metadata": {
    "id": "c64415c2"
   },
   "outputs": [],
   "source": [
    "#Converting the obtained images in Train and Test data set to Gray scale. \n",
    "\n",
    "X_Train = np.array([cvtColor(image, COLOR_BGR2GRAY) for image in X_Train])\n",
    "X_Test = np.array([cvtColor(image, COLOR_BGR2GRAY) for image in X_Test])\n",
    "\n",
    "\n",
    "\n",
    "\n",
    "# Normalization of Train and Test data set.\n",
    "\n",
    "\n",
    "X_Train = X_Train.astype('float32')\n",
    "X_Train = X_Train/255.0\n",
    "\n",
    "X_Test = X_Test.astype('float32')\n",
    "X_Test = X_Test/255.0\n",
    "\n",
    "\n"
   ]
  },
  {
   "cell_type": "markdown",
   "id": "c3aee318",
   "metadata": {
    "id": "c3aee318"
   },
   "source": [
    "#### Initializing the number of centroids."
   ]
  },
  {
   "cell_type": "code",
   "execution_count": 5,
   "id": "fe15411a",
   "metadata": {
    "id": "fe15411a"
   },
   "outputs": [],
   "source": [
    "No_of_Clusters=10"
   ]
  },
  {
   "cell_type": "markdown",
   "id": "4a5e9c2f",
   "metadata": {
    "id": "4a5e9c2f"
   },
   "source": [
    "## Implementing the functionality of K-Means algorithm on Test Dataset."
   ]
  },
  {
   "cell_type": "markdown",
   "id": "e179b500",
   "metadata": {
    "id": "e179b500"
   },
   "source": [
    "#### Varibale initialization."
   ]
  },
  {
   "cell_type": "code",
   "execution_count": 6,
   "id": "61c8d8ac",
   "metadata": {
    "colab": {
     "base_uri": "https://localhost:8080/"
    },
    "id": "61c8d8ac",
    "outputId": "fa3f357c-168c-4539-846b-78b3794a9b50"
   },
   "outputs": [],
   "source": [
    "#Reshaping the Test input data from (10000,32,32) to (10000, 1024).\n",
    "X_Test = X_Test.reshape(len(X_Test),-1)\n",
    "\n",
    "\n",
    "#K-Means step 1 -- Initilalizing the centroids of the data set randomly.\n",
    "np.random.seed(2)\n",
    "List_of_Random_Indices = np.random.choice(X_Test.shape[0], No_of_Clusters, replace = False)\n",
    "cluster_Label = X_Test[List_of_Random_Indices,:]\n",
    "\n",
    "\n",
    "#Declaring an array that holds the cluster label for each data point in the set.\n",
    "Cluster_to_Dataset_Label = np.full(X_Test.shape[0], -1)\n",
    "\n",
    "samples, features=X_Test.shape"
   ]
  },
  {
   "cell_type": "markdown",
   "id": "bb06da1a",
   "metadata": {
    "id": "bb06da1a"
   },
   "source": [
    "### K-Means"
   ]
  },
  {
   "cell_type": "code",
   "execution_count": 9,
   "id": "c783af8e",
   "metadata": {
    "id": "c783af8e"
   },
   "outputs": [],
   "source": [
    "for _ in range(15):\n",
    "    \n",
    "     #K-Means step 2 -- Based on the euclidian distance, assign each data point i to one of the cluster label j.\n",
    "    for i in range(samples):\n",
    "        \n",
    "         a=[]\n",
    "        \n",
    "         for j in range(No_of_Clusters):\n",
    "            \n",
    "             #Calculating the euclidian distance between each data point and each of the centroid.\n",
    "             #Since No_of_clusters is 10, 10 distance values are determined and stored temporarily in the array a.\n",
    "             a.append(np.array([euclidean(X_Test[i],cluster_Label[j] )]))\n",
    "        \n",
    "         #The Index of the value in the array a with minimum distance value is stored in the below array.\n",
    "         Cluster_to_Dataset_Label[i] = np.argmin(a)\n",
    "\n",
    "\n",
    "    #K-Means step 3 -- Determine mean of each cluster among it's own data points \n",
    "      #and assign this mean to the cluster as the new cluster label (centorid).    \n",
    "\n",
    "    for c in range(len(cluster_Label)):\n",
    "\n",
    "        points_in_this_cluster = []\n",
    "\n",
    "        for dp in range(samples):\n",
    "            \n",
    "            if Cluster_to_Dataset_Label[dp] == c:\n",
    "                # Updated_Label = np.mean(np.array([X_Test[dp]]), axis = 0)\n",
    "                points_in_this_cluster.append(X_Test[dp])\n",
    "        \n",
    "        Updated_Label = np.mean(points_in_this_cluster, axis = 0)\n",
    "        cluster_Label[c] = Updated_Label\n",
    "\n",
    "        \n",
    "\n",
    "\n"
   ]
  },
  {
   "cell_type": "markdown",
   "id": "3a057e78",
   "metadata": {
    "id": "3a057e78"
   },
   "source": [
    "#### Estimating the accuracy of the model."
   ]
  },
  {
   "cell_type": "code",
   "execution_count": 10,
   "id": "fa515bbd",
   "metadata": {
    "id": "fa515bbd"
   },
   "outputs": [
    {
     "name": "stdout",
     "output_type": "stream",
     "text": [
      "\n",
      "\n",
      "Dunn value for the given data set is  0.09304254\n",
      "\n",
      "Average Silhouette Score for the given dataset is:  0.054118443\n"
     ]
    }
   ],
   "source": [
    "\n",
    " #Calculating Dunn value.\n",
    "dist = pairwise_distances(X_Test)\n",
    "Dunn_Score=dunn(dist, Cluster_to_Dataset_Label)\n",
    "print(\"\\n\\nDunn value for the given data set is \", Dunn_Score)\n",
    "\n",
    "#Calculating Average Silhouette Score.\n",
    "Average_Silhouette_Score=silhouette_score(X_Test, Cluster_to_Dataset_Label)\n",
    "print(\"\\nAverage Silhouette Score for the given dataset is: \", Average_Silhouette_Score)\n"
   ]
  },
  {
   "cell_type": "markdown",
   "id": "90d30163",
   "metadata": {
    "id": "90d30163"
   },
   "source": [
    "## Implementing the functionality of Auto-encoders along with K-Means algorithm on Train dataset."
   ]
  },
  {
   "cell_type": "markdown",
   "id": "891dfec9",
   "metadata": {
    "id": "891dfec9"
   },
   "source": [
    "#### Varibale Initialization"
   ]
  },
  {
   "cell_type": "code",
   "execution_count": 75,
   "id": "7e16d49e",
   "metadata": {
    "id": "7e16d49e"
   },
   "outputs": [],
   "source": [
    "active_neurons = 128\n",
    "\n",
    "rand_state_value=200"
   ]
  },
  {
   "cell_type": "markdown",
   "id": "3d351eae",
   "metadata": {
    "id": "3d351eae"
   },
   "source": [
    "#### Auto-Encoder"
   ]
  },
  {
   "cell_type": "code",
   "execution_count": 91,
   "id": "a8ea8e64",
   "metadata": {
    "colab": {
     "base_uri": "https://localhost:8080/"
    },
    "id": "a8ea8e64",
    "outputId": "525a7184-a8be-4415-811e-010c4ff5e2f5"
   },
   "outputs": [
    {
     "name": "stdout",
     "output_type": "stream",
     "text": [
      "Model: \"autoencoder_final\"\n",
      "_________________________________________________________________\n",
      " Layer (type)                Output Shape              Param #   \n",
      "=================================================================\n",
      " input_11 (InputLayer)       [(None, 1024)]            0         \n",
      "                                                                 \n",
      " dense_16 (Dense)            (None, 128)               131200    \n",
      "                                                                 \n",
      " dense_17 (Dense)            (None, 1024)              132096    \n",
      "                                                                 \n",
      "=================================================================\n",
      "Total params: 263,296\n",
      "Trainable params: 263,296\n",
      "Non-trainable params: 0\n",
      "_________________________________________________________________\n"
     ]
    }
   ],
   "source": [
    "\n",
    "input_encoder = Input(shape=(1024,))\n",
    "output_encoder = Dense(active_neurons, activation='linear')(input_encoder)\n",
    "\n",
    "output_decoder = Dense(1024, activation=\"linear\")(output_encoder)\n",
    "\n",
    "\n",
    "autoencoder_final = Model(input_encoder, output_decoder, name='autoencoder_final')\n",
    "autoencoder_final.summary()\n",
    "\n",
    "\n"
   ]
  },
  {
   "cell_type": "markdown",
   "id": "6d5c1a4d",
   "metadata": {
    "id": "6d5c1a4d"
   },
   "source": [
    "#### Encoder Model"
   ]
  },
  {
   "cell_type": "code",
   "execution_count": 92,
   "id": "d8db0486",
   "metadata": {
    "id": "d8db0486"
   },
   "outputs": [],
   "source": [
    "encoder_final = Model(input_encoder, output_encoder)\n"
   ]
  },
  {
   "cell_type": "markdown",
   "id": "cf81fc8b",
   "metadata": {},
   "source": [
    "#### Decoder Model"
   ]
  },
  {
   "cell_type": "code",
   "execution_count": 93,
   "id": "d97bfb8e",
   "metadata": {
    "id": "d97bfb8e"
   },
   "outputs": [],
   "source": [
    "encoded_input = Input(shape=(active_neurons,))\n",
    "\n",
    "decoder_layer = autoencoder_final.layers[-1]\n",
    "# Create the decoder model\n",
    "decoder = Model(encoded_input, decoder_layer(encoded_input))\n",
    "\n"
   ]
  },
  {
   "cell_type": "code",
   "execution_count": 94,
   "id": "85bd781a",
   "metadata": {
    "id": "85bd781a"
   },
   "outputs": [],
   "source": [
    "autoencoder_final.compile(optimizer='adam', loss='mse')\n"
   ]
  },
  {
   "cell_type": "markdown",
   "id": "1778be58",
   "metadata": {},
   "source": [
    "#### Training with the help of Autoencoder."
   ]
  },
  {
   "cell_type": "code",
   "execution_count": 98,
   "id": "YX70ZaaOqWoc",
   "metadata": {
    "colab": {
     "base_uri": "https://localhost:8080/"
    },
    "id": "YX70ZaaOqWoc",
    "outputId": "a5b650a7-b29f-45c0-e4cb-25b604fddd6e"
   },
   "outputs": [
    {
     "name": "stdout",
     "output_type": "stream",
     "text": [
      "Epoch 1/50\n",
      "250/250 [==============================] - 4s 16ms/step - loss: 0.0039\n",
      "Epoch 2/50\n",
      "250/250 [==============================] - 3s 14ms/step - loss: 0.0039\n",
      "Epoch 3/50\n",
      "250/250 [==============================] - 3s 13ms/step - loss: 0.0039\n",
      "Epoch 4/50\n",
      "250/250 [==============================] - 3s 13ms/step - loss: 0.0038\n",
      "Epoch 5/50\n",
      "250/250 [==============================] - 3s 13ms/step - loss: 0.0038\n",
      "Epoch 6/50\n",
      "250/250 [==============================] - 3s 13ms/step - loss: 0.0038\n",
      "Epoch 7/50\n",
      "250/250 [==============================] - 3s 13ms/step - loss: 0.0038\n",
      "Epoch 8/50\n",
      "250/250 [==============================] - 3s 13ms/step - loss: 0.0038\n",
      "Epoch 9/50\n",
      "250/250 [==============================] - 3s 13ms/step - loss: 0.0038\n",
      "Epoch 10/50\n",
      "250/250 [==============================] - 3s 13ms/step - loss: 0.0039\n",
      "Epoch 11/50\n",
      "250/250 [==============================] - 3s 14ms/step - loss: 0.0038\n",
      "Epoch 12/50\n",
      "250/250 [==============================] - 3s 13ms/step - loss: 0.0038\n",
      "Epoch 13/50\n",
      "250/250 [==============================] - 3s 13ms/step - loss: 0.0038\n",
      "Epoch 14/50\n",
      "250/250 [==============================] - 3s 13ms/step - loss: 0.0038\n",
      "Epoch 15/50\n",
      "250/250 [==============================] - 3s 13ms/step - loss: 0.0038\n",
      "Epoch 16/50\n",
      "250/250 [==============================] - 3s 13ms/step - loss: 0.0038\n",
      "Epoch 17/50\n",
      "250/250 [==============================] - 3s 13ms/step - loss: 0.0038\n",
      "Epoch 18/50\n",
      "250/250 [==============================] - 3s 13ms/step - loss: 0.0038\n",
      "Epoch 19/50\n",
      "250/250 [==============================] - 3s 13ms/step - loss: 0.0038\n",
      "Epoch 20/50\n",
      "250/250 [==============================] - 3s 13ms/step - loss: 0.0038\n",
      "Epoch 21/50\n",
      "250/250 [==============================] - 3s 13ms/step - loss: 0.0038\n",
      "Epoch 22/50\n",
      "250/250 [==============================] - 3s 13ms/step - loss: 0.0038\n",
      "Epoch 23/50\n",
      "250/250 [==============================] - 3s 13ms/step - loss: 0.0038\n",
      "Epoch 24/50\n",
      "250/250 [==============================] - 3s 13ms/step - loss: 0.0038\n",
      "Epoch 25/50\n",
      "250/250 [==============================] - 3s 12ms/step - loss: 0.0038\n",
      "Epoch 26/50\n",
      "250/250 [==============================] - 3s 13ms/step - loss: 0.0038\n",
      "Epoch 27/50\n",
      "250/250 [==============================] - 3s 13ms/step - loss: 0.0037\n",
      "Epoch 28/50\n",
      "250/250 [==============================] - 3s 13ms/step - loss: 0.0038\n",
      "Epoch 29/50\n",
      "250/250 [==============================] - 3s 12ms/step - loss: 0.0038\n",
      "Epoch 30/50\n",
      "250/250 [==============================] - 3s 13ms/step - loss: 0.0037\n",
      "Epoch 31/50\n",
      "250/250 [==============================] - 3s 13ms/step - loss: 0.0038\n",
      "Epoch 32/50\n",
      "250/250 [==============================] - 3s 13ms/step - loss: 0.0038\n",
      "Epoch 33/50\n",
      "250/250 [==============================] - 3s 13ms/step - loss: 0.0038\n",
      "Epoch 34/50\n",
      "250/250 [==============================] - 3s 13ms/step - loss: 0.0038\n",
      "Epoch 35/50\n",
      "250/250 [==============================] - 3s 12ms/step - loss: 0.0037\n",
      "Epoch 36/50\n",
      "250/250 [==============================] - 3s 13ms/step - loss: 0.0037\n",
      "Epoch 37/50\n",
      "250/250 [==============================] - 3s 13ms/step - loss: 0.0038\n",
      "Epoch 38/50\n",
      "250/250 [==============================] - 3s 13ms/step - loss: 0.0038\n",
      "Epoch 39/50\n",
      "250/250 [==============================] - 3s 12ms/step - loss: 0.0038\n",
      "Epoch 40/50\n",
      "250/250 [==============================] - 3s 12ms/step - loss: 0.0037\n",
      "Epoch 41/50\n",
      "250/250 [==============================] - 3s 13ms/step - loss: 0.0037\n",
      "Epoch 42/50\n",
      "250/250 [==============================] - 3s 12ms/step - loss: 0.0037\n",
      "Epoch 43/50\n",
      "250/250 [==============================] - 3s 13ms/step - loss: 0.0037\n",
      "Epoch 44/50\n",
      "250/250 [==============================] - 3s 12ms/step - loss: 0.0037\n",
      "Epoch 45/50\n",
      "250/250 [==============================] - 3s 13ms/step - loss: 0.0037\n",
      "Epoch 46/50\n",
      "250/250 [==============================] - 3s 13ms/step - loss: 0.0037\n",
      "Epoch 47/50\n",
      "250/250 [==============================] - 3s 12ms/step - loss: 0.0037\n",
      "Epoch 48/50\n",
      "250/250 [==============================] - 3s 13ms/step - loss: 0.0037\n",
      "Epoch 49/50\n",
      "250/250 [==============================] - 3s 13ms/step - loss: 0.0038\n",
      "Epoch 50/50\n",
      "250/250 [==============================] - 3s 12ms/step - loss: 0.0037\n"
     ]
    },
    {
     "data": {
      "text/plain": [
       "<keras.callbacks.History at 0x7fca45caddd0>"
      ]
     },
     "execution_count": 98,
     "metadata": {},
     "output_type": "execute_result"
    }
   ],
   "source": [
    "X_Train = X_Train.reshape(-1, 32*32)\n",
    "\n",
    "\n",
    "\n",
    "autoencoder_final.fit(X_Train,X_Train,epochs=50, batch_size=200)   \n",
    "    "
   ]
  },
  {
   "cell_type": "markdown",
   "id": "05e81b8b",
   "metadata": {},
   "source": [
    "#### Prediction using encoder and Decoder."
   ]
  },
  {
   "cell_type": "code",
   "execution_count": 99,
   "id": "deb9ce3d",
   "metadata": {
    "id": "deb9ce3d"
   },
   "outputs": [],
   "source": [
    "\n",
    "\n",
    "encoded_imgs = encoder_final.predict(X_Train)\n",
    "decoded_imgs = decoder.predict(encoded_imgs)\n",
    "\n"
   ]
  },
  {
   "cell_type": "code",
   "execution_count": null,
   "id": "1d986e91",
   "metadata": {},
   "outputs": [],
   "source": [
    "#### COmparision between orginal images and Decoded images."
   ]
  },
  {
   "cell_type": "code",
   "execution_count": 100,
   "id": "b721507b",
   "metadata": {
    "colab": {
     "base_uri": "https://localhost:8080/",
     "height": 519
    },
    "id": "b721507b",
    "outputId": "da8820f9-af38-4e63-fddc-b1c8ac4788e8"
   },
   "outputs": [
    {
     "data": {
      "image/png": "[encoded data removed]",
      "text/plain": [
       "<Figure size 432x288 with 9 Axes>"
      ]
     },
     "metadata": {
      "image/png": {
       "height": 251,
       "width": 334
      },
      "needs_background": "light"
     },
     "output_type": "display_data"
    },
    {
     "data": {
      "image/png": "[encoded data removed]",
      "text/plain": [
       "<Figure size 432x288 with 9 Axes>"
      ]
     },
     "metadata": {
      "image/png": {
       "height": 251,
       "width": 334
      },
      "needs_background": "light"
     },
     "output_type": "display_data"
    }
   ],
   "source": [
    "X_Train = X_Train.reshape(50000,32,32)\n",
    "for img in range(9):\n",
    "    pyplot.subplot(330 + 1 + img)\n",
    "    pyplot.imshow(X_Train[img])\n",
    "pyplot.show()\n",
    "\n",
    "\n",
    "\n",
    "\n",
    "\n",
    "\n",
    "for img in range(9):\n",
    "    pyplot.subplot(330 + 1 + img)\n",
    "    pyplot.imshow(decoded_imgs[img].reshape(32,32))\n",
    "pyplot.show()\n",
    "\n"
   ]
  },
  {
   "cell_type": "code",
   "execution_count": 84,
   "id": "7e78df64",
   "metadata": {
    "id": "7e78df64"
   },
   "outputs": [],
   "source": [
    "### Implementing k-means algorithm on the encoder prediction output \"encoder_prediction\"."
   ]
  },
  {
   "cell_type": "code",
   "execution_count": 101,
   "id": "27960ab3",
   "metadata": {
    "id": "27960ab3"
   },
   "outputs": [],
   "source": [
    "\n",
    "kmeans_cluster_output = KMeans(n_clusters=No_of_Clusters, random_state=rand_state_value).fit_predict(encoded_imgs)"
   ]
  },
  {
   "cell_type": "code",
   "execution_count": 86,
   "id": "97f16687",
   "metadata": {
    "id": "97f16687"
   },
   "outputs": [],
   "source": [
    "#### Estimating the accuracy of K-Means model on encoder prediction data."
   ]
  },
  {
   "cell_type": "code",
   "execution_count": 102,
   "id": "b67d9d32",
   "metadata": {
    "colab": {
     "base_uri": "https://localhost:8080/"
    },
    "id": "b67d9d32",
    "outputId": "097bd831-3575-4689-c305-1a1912f05c0d"
   },
   "outputs": [
    {
     "name": "stdout",
     "output_type": "stream",
     "text": [
      "\n",
      "Average Silhouette Score for the given dataset is:  0.024419282\n"
     ]
    }
   ],
   "source": [
    "\n",
    "#Calculating Average Silhouette Score.\n",
    "Average_Silhouette_Score=silhouette_score(encoded_imgs, kmeans_cluster_output)\n",
    "print(\"\\nAverage Silhouette Score for the given dataset is: \", Average_Silhouette_Score)\n"
   ]
  }
 ],
 "metadata": {
  "colab": {
   "name": "Assignment 2 Final.ipynb",
   "provenance": []
  },
  "kernelspec": {
   "display_name": "Python 3 (ipykernel)",
   "language": "python",
   "name": "python3"
  },
  "language_info": {
   "codemirror_mode": {
    "name": "ipython",
    "version": 3
   },
   "file_extension": ".py",
   "mimetype": "text/x-python",
   "name": "python",
   "nbconvert_exporter": "python",
   "pygments_lexer": "ipython3",
   "version": "3.8.8"
  }
 },
 "nbformat": 4,
 "nbformat_minor": 5
}
